{
 "cells": [
  {
   "cell_type": "code",
   "execution_count": null,
   "metadata": {},
   "outputs": [],
   "source": [
    "# import libraries\n",
    "import sys\n",
    "import nltk\n",
    "nltk.download(['punkt', 'wordnet', 'stopwords'])\n",
    "\n",
    "import sqlalchemy as sqla\n",
    "import pandas as pd\n",
    "import re\n",
    "from nltk.tokenize import word_tokenize\n",
    "from nltk.corpus import stopwords\n",
    "from nltk.stem.wordnet import WordNetLemmatizer\n",
    "from sklearn.pipeline import Pipeline\n",
    "from sklearn.feature_extraction.text import TfidfVectorizer, CountVectorizer, TfidfTransformer\n",
    "from sklearn.ensemble import RandomForestClassifier\n",
    "from sklearn.multioutput import MultiOutputClassifier\n",
    "from sklearn.model_selection import train_test_split\n",
    "from sklearn.metrics import classification_report, accuracy_score\n",
    "from sklearn.model_selection import GridSearchCV\n",
    "from sklearn.ensemble import AdaBoostClassifier\n",
    "import pickle"
   ]
  },
  {
   "cell_type": "code",
   "execution_count": null,
   "metadata": {},
   "outputs": [],
   "source": [
    "def load_data(database_filepath):\n",
    "    '''\n",
    "    INPUT:  \n",
    "        database_filepath (str): database with table name \"Messages\" having processed messages\n",
    "    OUTPUT: \n",
    "        X (pandas dataframe): messages column\n",
    "        Y (pandas dataframe): category columns marked as 1 if the message belongs to that category \n",
    "        category_names (list of strings): list of category names\n",
    "    DESCRIPTION:\n",
    "            read table named \"Messages\" from the given database\n",
    "            and select 'message' as X and all ccategories columns as Y\n",
    "            and get list of catefories as category_names\n",
    "    '''\n",
    "\n",
    "    engine = sqla.create_engine('sqlite:///'+database_filepath)\n",
    "    df = pd.read_sql('SELECT * FROM DisasterMessages', engine)\n",
    "    X = df['message']\n",
    "    Y = df.iloc[:,4:]\n",
    "\n",
    "    category_names = Y.columns.values\n",
    "\n",
    "    return X, Y, category_names\n"
   ]
  }
 ],
 "metadata": {
  "kernelspec": {
   "display_name": "Python 3",
   "language": "python",
   "name": "python3"
  },
  "language_info": {
   "codemirror_mode": {
    "name": "ipython",
    "version": 3
   },
   "file_extension": ".py",
   "mimetype": "text/x-python",
   "name": "python",
   "nbconvert_exporter": "python",
   "pygments_lexer": "ipython3",
   "version": "3.6.5"
  }
 },
 "nbformat": 4,
 "nbformat_minor": 2
}
