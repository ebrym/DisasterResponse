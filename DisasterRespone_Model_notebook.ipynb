{
 "cells": [
  {
   "cell_type": "code",
   "execution_count": 1,
   "metadata": {},
   "outputs": [
    {
     "name": "stdout",
     "output_type": "stream",
     "text": [
      "[nltk_data] Downloading package punkt to\n",
      "[nltk_data]     C:\\Users\\User\\AppData\\Roaming\\nltk_data...\n",
      "[nltk_data]   Package punkt is already up-to-date!\n",
      "[nltk_data] Downloading package wordnet to\n",
      "[nltk_data]     C:\\Users\\User\\AppData\\Roaming\\nltk_data...\n",
      "[nltk_data]   Package wordnet is already up-to-date!\n",
      "[nltk_data] Downloading package stopwords to\n",
      "[nltk_data]     C:\\Users\\User\\AppData\\Roaming\\nltk_data...\n",
      "[nltk_data]   Package stopwords is already up-to-date!\n"
     ]
    }
   ],
   "source": [
    "# import libraries\n",
    "import sys\n",
    "import numpy as np\n",
    "import nltk\n",
    "nltk.download(['punkt', 'wordnet', 'stopwords'])\n",
    "\n",
    "import sqlalchemy as sqla\n",
    "import pandas as pd\n",
    "import re\n",
    "from nltk.tokenize import word_tokenize\n",
    "from nltk.stem.porter import PorterStemmer\n",
    "from nltk.corpus import stopwords\n",
    "from nltk.stem.wordnet import WordNetLemmatizer\n",
    "from sklearn.pipeline import Pipeline\n",
    "from sklearn.feature_extraction.text import TfidfVectorizer, CountVectorizer, TfidfTransformer\n",
    "from sklearn.ensemble import RandomForestClassifier\n",
    "from sklearn.multiclass import OneVsRestClassifier\n",
    "from sklearn.multioutput import MultiOutputClassifier\n",
    "from sklearn.svm import LinearSVC\n",
    "from sklearn.model_selection import train_test_split\n",
    "from sklearn.metrics import classification_report, accuracy_score\n",
    "from sklearn.model_selection import GridSearchCV\n",
    "from sklearn.ensemble import AdaBoostClassifier\n",
    "import pickle"
   ]
  },
  {
   "cell_type": "code",
   "execution_count": 2,
   "metadata": {},
   "outputs": [],
   "source": [
    "def load_data(database_filepath):\n",
    "    '''\n",
    "    INPUT:  \n",
    "        database_filepath (str): database with table name \"Messages\" having processed messages\n",
    "    OUTPUT: \n",
    "        X (pandas dataframe): messages column\n",
    "        Y (pandas dataframe): category columns marked as 1 if the message belongs to that category \n",
    "        category_names (list of strings): list of category names\n",
    "    DESCRIPTION:\n",
    "            read table named \"Messages\" from the given database\n",
    "            and select 'message' as X and all ccategories columns as Y\n",
    "            and get list of catefories as category_names\n",
    "    '''\n",
    "\n",
    "    engine = sqla.create_engine('sqlite:///'+database_filepath)\n",
    "    df = pd.read_sql('SELECT * FROM DisasterMessages', engine)\n",
    "    #X = df['message']\n",
    "    #Y = df.iloc[:,4:]\n",
    "    #Y = df.drop(['id', 'message', 'original', 'genre'], axis = 1)\n",
    "    \n",
    "    X,Y = df['message'], df.iloc[:,4:]\n",
    "\n",
    "    \n",
    "    # mapping extra values to `1`\n",
    "    Y['related']=Y['related'].map(lambda x: 1 if x == 2 else x)\n",
    "\n",
    "    category_names = Y.columns.values\n",
    "\n",
    "    return X, Y, category_names\n"
   ]
  },
  {
   "cell_type": "code",
   "execution_count": 8,
   "metadata": {},
   "outputs": [],
   "source": [
    "def tokenize(text):\n",
    "    '''\n",
    "        The function is to process the sentence, token the words and lower it.\n",
    "        arg: str text\n",
    "        return:list\n",
    "        '''\n",
    "    # normalize case and remove punctuation\n",
    "    text = re.sub(r\"[^a-zA-Z0-9]\", \" \", text.lower())\n",
    "\n",
    "    # tokenize text\n",
    "    words = word_tokenize(text)\n",
    "   \n",
    "     # remove stop words\n",
    "    stopwords_ = stopwords.words(\"english\")\n",
    "    words = [word for word in words if word not in stopwords_]\n",
    "    \n",
    "    # extract root form of words\n",
    "    words = [WordNetLemmatizer().lemmatize(word, pos='v') for word in words]\n",
    "    \n",
    "\n",
    "    \n",
    "    return words\n",
    "    "
   ]
  },
  {
   "cell_type": "code",
   "execution_count": 4,
   "metadata": {},
   "outputs": [],
   "source": [
    "def build_model():\n",
    "    '''\n",
    "        The function is to build a pipeline and using gridsearch to training model.\n",
    "        The pipeline including countVectorizer, TfidfTransformer to process the text and using\n",
    "        RandomForestClassifier to fit the dataset\n",
    "    '''\n",
    "\n",
    "    # create ML pipeline\n",
    " \n",
    "    pipeline = Pipeline([('vect', CountVectorizer(tokenizer=tokenize)),\n",
    "                         ('tfidf', TfidfTransformer()),\n",
    "                         ('clf', MultiOutputClassifier(\n",
    "                            OneVsRestClassifier(LinearSVC())))])\n",
    "\n",
    "    # hyper-parameter grid\n",
    "    parameters = {'vect__ngram_range': ((1, 1), (1, 2)),\n",
    "                  'vect__max_df': (0.75, 1.0)\n",
    "                  }\n",
    "\n",
    "    # create model\n",
    "    model = GridSearchCV(estimator=pipeline,\n",
    "            param_grid=parameters,\n",
    "            verbose=3,\n",
    "            cv=3)\n",
    "    \n",
    "    return model"
   ]
  },
  {
   "cell_type": "code",
   "execution_count": 12,
   "metadata": {},
   "outputs": [],
   "source": [
    "def evaluate_model(model, X_test, Y_test, category_names):\n",
    "    '''\n",
    "        The function is to return the results of prediction on test dataset, including precision socre,\n",
    "        f1-score and recall score.\n",
    "        args: model, test dataset and category names\n",
    "        return: dict - the classification report of category names\n",
    "    \n",
    "\n",
    "   \n",
    "    '''  \n",
    "        \n",
    "    \"\"\"\n",
    "    Evaluate the model against a test dataset\n",
    "    Args:\n",
    "        model: Trained model\n",
    "        X_test: Test features\n",
    "        Y_test: Test labels\n",
    "        category_names: String array of category names\n",
    "    \"\"\"\n",
    "    y_preds = model.predict(X_test)\n",
    "    \n",
    "   # print classification report\n",
    "    print(classification_report(Y_test.values, y_preds, target_names=category_names))\n",
    "\n",
    "    # print accuracy score\n",
    "    print('Accuracy: {}'.format(np.mean(Y_test.values == y_preds)))\n",
    "\n",
    "    #return report"
   ]
  },
  {
   "cell_type": "code",
   "execution_count": 6,
   "metadata": {},
   "outputs": [],
   "source": [
    "def save_model(model, model_filepath):\n",
    "    '''\n",
    "       INPUT:\n",
    "           model (str): trained model\n",
    "           model_filepath (str): pickle file path to save the model\n",
    "       OUTPUT:\n",
    "       DESCRIPTION:\n",
    "               save the model passed as the path given as input\n",
    "       '''\n",
    "\n",
    "    pickle.dump(model, open(model_filepath, \"wb\"))"
   ]
  },
  {
   "cell_type": "code",
   "execution_count": 13,
   "metadata": {},
   "outputs": [
    {
     "name": "stdout",
     "output_type": "stream",
     "text": [
      "Building model...\n",
      "Training model...\n",
      "Fitting 3 folds for each of 4 candidates, totalling 12 fits\n",
      "[CV] vect__max_df=0.75, vect__ngram_range=(1, 1) .....................\n"
     ]
    },
    {
     "name": "stderr",
     "output_type": "stream",
     "text": [
      "C:\\Program Files (x86)\\Microsoft Visual Studio\\Shared\\Anaconda3_64\\lib\\site-packages\\sklearn\\multiclass.py:76: UserWarning: Label not 0 is present in all training examples.\n",
      "  str(classes[c]))\n"
     ]
    },
    {
     "name": "stdout",
     "output_type": "stream",
     "text": [
      "[CV]  vect__max_df=0.75, vect__ngram_range=(1, 1), score=0.28136175082248605, total=  15.6s\n",
      "[CV] vect__max_df=0.75, vect__ngram_range=(1, 1) .....................\n"
     ]
    },
    {
     "name": "stderr",
     "output_type": "stream",
     "text": [
      "[Parallel(n_jobs=1)]: Done   1 out of   1 | elapsed:   25.6s remaining:    0.0s\n",
      "C:\\Program Files (x86)\\Microsoft Visual Studio\\Shared\\Anaconda3_64\\lib\\site-packages\\sklearn\\multiclass.py:76: UserWarning: Label not 0 is present in all training examples.\n",
      "  str(classes[c]))\n"
     ]
    },
    {
     "name": "stdout",
     "output_type": "stream",
     "text": [
      "[CV]  vect__max_df=0.75, vect__ngram_range=(1, 1), score=0.2785009297668431, total=  19.7s\n",
      "[CV] vect__max_df=0.75, vect__ngram_range=(1, 1) .....................\n"
     ]
    },
    {
     "name": "stderr",
     "output_type": "stream",
     "text": [
      "[Parallel(n_jobs=1)]: Done   2 out of   2 | elapsed:   56.2s remaining:    0.0s\n",
      "C:\\Program Files (x86)\\Microsoft Visual Studio\\Shared\\Anaconda3_64\\lib\\site-packages\\sklearn\\multiclass.py:76: UserWarning: Label not 0 is present in all training examples.\n",
      "  str(classes[c]))\n"
     ]
    },
    {
     "name": "stdout",
     "output_type": "stream",
     "text": [
      "[CV]  vect__max_df=0.75, vect__ngram_range=(1, 1), score=0.2842632331902718, total=  16.8s\n",
      "[CV] vect__max_df=0.75, vect__ngram_range=(1, 2) .....................\n"
     ]
    },
    {
     "name": "stderr",
     "output_type": "stream",
     "text": [
      "C:\\Program Files (x86)\\Microsoft Visual Studio\\Shared\\Anaconda3_64\\lib\\site-packages\\sklearn\\multiclass.py:76: UserWarning: Label not 0 is present in all training examples.\n",
      "  str(classes[c]))\n"
     ]
    },
    {
     "name": "stdout",
     "output_type": "stream",
     "text": [
      "[CV]  vect__max_df=0.75, vect__ngram_range=(1, 2), score=0.28493777714203977, total=  21.1s\n",
      "[CV] vect__max_df=0.75, vect__ngram_range=(1, 2) .....................\n"
     ]
    },
    {
     "name": "stderr",
     "output_type": "stream",
     "text": [
      "C:\\Program Files (x86)\\Microsoft Visual Studio\\Shared\\Anaconda3_64\\lib\\site-packages\\sklearn\\multiclass.py:76: UserWarning: Label not 0 is present in all training examples.\n",
      "  str(classes[c]))\n"
     ]
    },
    {
     "name": "stdout",
     "output_type": "stream",
     "text": [
      "[CV]  vect__max_df=0.75, vect__ngram_range=(1, 2), score=0.28365040766700045, total=  18.9s\n",
      "[CV] vect__max_df=0.75, vect__ngram_range=(1, 2) .....................\n"
     ]
    },
    {
     "name": "stderr",
     "output_type": "stream",
     "text": [
      "C:\\Program Files (x86)\\Microsoft Visual Studio\\Shared\\Anaconda3_64\\lib\\site-packages\\sklearn\\multiclass.py:76: UserWarning: Label not 0 is present in all training examples.\n",
      "  str(classes[c]))\n"
     ]
    },
    {
     "name": "stdout",
     "output_type": "stream",
     "text": [
      "[CV]  vect__max_df=0.75, vect__ngram_range=(1, 2), score=0.2815450643776824, total=  20.0s\n",
      "[CV] vect__max_df=1.0, vect__ngram_range=(1, 1) ......................\n"
     ]
    },
    {
     "name": "stderr",
     "output_type": "stream",
     "text": [
      "C:\\Program Files (x86)\\Microsoft Visual Studio\\Shared\\Anaconda3_64\\lib\\site-packages\\sklearn\\multiclass.py:76: UserWarning: Label not 0 is present in all training examples.\n",
      "  str(classes[c]))\n"
     ]
    },
    {
     "name": "stdout",
     "output_type": "stream",
     "text": [
      "[CV]  vect__max_df=1.0, vect__ngram_range=(1, 1), score=0.28136175082248605, total=  19.7s\n",
      "[CV] vect__max_df=1.0, vect__ngram_range=(1, 1) ......................\n"
     ]
    },
    {
     "name": "stderr",
     "output_type": "stream",
     "text": [
      "C:\\Program Files (x86)\\Microsoft Visual Studio\\Shared\\Anaconda3_64\\lib\\site-packages\\sklearn\\multiclass.py:76: UserWarning: Label not 0 is present in all training examples.\n",
      "  str(classes[c]))\n"
     ]
    },
    {
     "name": "stdout",
     "output_type": "stream",
     "text": [
      "[CV]  vect__max_df=1.0, vect__ngram_range=(1, 1), score=0.2785009297668431, total=  19.1s\n",
      "[CV] vect__max_df=1.0, vect__ngram_range=(1, 1) ......................\n"
     ]
    },
    {
     "name": "stderr",
     "output_type": "stream",
     "text": [
      "C:\\Program Files (x86)\\Microsoft Visual Studio\\Shared\\Anaconda3_64\\lib\\site-packages\\sklearn\\multiclass.py:76: UserWarning: Label not 0 is present in all training examples.\n",
      "  str(classes[c]))\n"
     ]
    },
    {
     "name": "stdout",
     "output_type": "stream",
     "text": [
      "[CV]  vect__max_df=1.0, vect__ngram_range=(1, 1), score=0.2842632331902718, total=  17.5s\n",
      "[CV] vect__max_df=1.0, vect__ngram_range=(1, 2) ......................\n"
     ]
    },
    {
     "name": "stderr",
     "output_type": "stream",
     "text": [
      "C:\\Program Files (x86)\\Microsoft Visual Studio\\Shared\\Anaconda3_64\\lib\\site-packages\\sklearn\\multiclass.py:76: UserWarning: Label not 0 is present in all training examples.\n",
      "  str(classes[c]))\n"
     ]
    },
    {
     "name": "stdout",
     "output_type": "stream",
     "text": [
      "[CV]  vect__max_df=1.0, vect__ngram_range=(1, 2), score=0.28493777714203977, total=  20.2s\n",
      "[CV] vect__max_df=1.0, vect__ngram_range=(1, 2) ......................\n"
     ]
    },
    {
     "name": "stderr",
     "output_type": "stream",
     "text": [
      "C:\\Program Files (x86)\\Microsoft Visual Studio\\Shared\\Anaconda3_64\\lib\\site-packages\\sklearn\\multiclass.py:76: UserWarning: Label not 0 is present in all training examples.\n",
      "  str(classes[c]))\n"
     ]
    },
    {
     "name": "stdout",
     "output_type": "stream",
     "text": [
      "[CV]  vect__max_df=1.0, vect__ngram_range=(1, 2), score=0.28365040766700045, total=  18.8s\n",
      "[CV] vect__max_df=1.0, vect__ngram_range=(1, 2) ......................\n"
     ]
    },
    {
     "name": "stderr",
     "output_type": "stream",
     "text": [
      "C:\\Program Files (x86)\\Microsoft Visual Studio\\Shared\\Anaconda3_64\\lib\\site-packages\\sklearn\\multiclass.py:76: UserWarning: Label not 0 is present in all training examples.\n",
      "  str(classes[c]))\n"
     ]
    },
    {
     "name": "stdout",
     "output_type": "stream",
     "text": [
      "[CV]  vect__max_df=1.0, vect__ngram_range=(1, 2), score=0.2815450643776824, total=  21.8s\n"
     ]
    },
    {
     "name": "stderr",
     "output_type": "stream",
     "text": [
      "[Parallel(n_jobs=1)]: Done  12 out of  12 | elapsed:  5.9min finished\n",
      "C:\\Program Files (x86)\\Microsoft Visual Studio\\Shared\\Anaconda3_64\\lib\\site-packages\\sklearn\\multiclass.py:76: UserWarning: Label not 0 is present in all training examples.\n",
      "  str(classes[c]))\n"
     ]
    },
    {
     "name": "stdout",
     "output_type": "stream",
     "text": [
      "Evaluating model...\n",
      "                        precision    recall  f1-score   support\n",
      "\n",
      "               related       0.86      0.94      0.90      4041\n",
      "               request       0.74      0.66      0.69       911\n",
      "                 offer       0.00      0.00      0.00        24\n",
      "           aid_related       0.72      0.78      0.75      2216\n",
      "          medical_help       0.64      0.35      0.45       420\n",
      "      medical_products       0.60      0.30      0.40       273\n",
      "     search_and_rescue       0.42      0.13      0.20       137\n",
      "              security       0.20      0.01      0.02        83\n",
      "              military       0.64      0.41      0.50       152\n",
      "           child_alone       0.00      0.00      0.00         0\n",
      "                 water       0.73      0.75      0.74       314\n",
      "                  food       0.81      0.79      0.80       602\n",
      "               shelter       0.75      0.61      0.68       476\n",
      "              clothing       0.81      0.63      0.71        81\n",
      "                 money       0.69      0.28      0.40       125\n",
      "        missing_people       0.86      0.09      0.17        64\n",
      "              refugees       0.65      0.25      0.36       170\n",
      "                 death       0.74      0.52      0.61       236\n",
      "             other_aid       0.50      0.25      0.33       710\n",
      "infrastructure_related       0.48      0.09      0.15       336\n",
      "             transport       0.75      0.24      0.37       238\n",
      "             buildings       0.64      0.46      0.54       251\n",
      "           electricity       0.57      0.33      0.42       112\n",
      "                 tools       0.00      0.00      0.00        40\n",
      "             hospitals       0.67      0.06      0.11        64\n",
      "                 shops       0.00      0.00      0.00        20\n",
      "           aid_centers       0.00      0.00      0.00        63\n",
      "  other_infrastructure       0.31      0.04      0.07       217\n",
      "       weather_related       0.78      0.76      0.77      1462\n",
      "                floods       0.87      0.59      0.71       449\n",
      "                 storm       0.69      0.69      0.69       444\n",
      "                  fire       0.72      0.20      0.32        64\n",
      "            earthquake       0.89      0.79      0.83       502\n",
      "                  cold       0.72      0.37      0.49       112\n",
      "         other_weather       0.61      0.16      0.25       288\n",
      "         direct_report       0.67      0.57      0.62      1044\n",
      "\n",
      "           avg / total       0.73      0.65      0.67     16741\n",
      "\n",
      "Accuracy: 0.9513677006525977\n",
      "Saving model...\n",
      " \n"
     ]
    },
    {
     "name": "stderr",
     "output_type": "stream",
     "text": [
      "C:\\Program Files (x86)\\Microsoft Visual Studio\\Shared\\Anaconda3_64\\lib\\site-packages\\sklearn\\metrics\\classification.py:1135: UndefinedMetricWarning: Precision and F-score are ill-defined and being set to 0.0 in labels with no predicted samples.\n",
      "  'precision', 'predicted', average, warn_for)\n",
      "C:\\Program Files (x86)\\Microsoft Visual Studio\\Shared\\Anaconda3_64\\lib\\site-packages\\sklearn\\metrics\\classification.py:1137: UndefinedMetricWarning: Recall and F-score are ill-defined and being set to 0.0 in labels with no true samples.\n",
      "  'recall', 'true', average, warn_for)\n"
     ]
    },
    {
     "ename": "NameError",
     "evalue": "name 'model_filepath' is not defined",
     "output_type": "error",
     "traceback": [
      "\u001b[1;31m---------------------------------------------------------------------------\u001b[0m",
      "\u001b[1;31mNameError\u001b[0m                                 Traceback (most recent call last)",
      "\u001b[1;32m<ipython-input-13-3f79c7399f5b>\u001b[0m in \u001b[0;36m<module>\u001b[1;34m()\u001b[0m\n\u001b[0;32m     15\u001b[0m \u001b[1;33m\u001b[0m\u001b[0m\n\u001b[0;32m     16\u001b[0m \u001b[0mprint\u001b[0m\u001b[1;33m(\u001b[0m\u001b[1;34m'Saving model...\\n '\u001b[0m\u001b[1;33m)\u001b[0m\u001b[1;33m\u001b[0m\u001b[0m\n\u001b[1;32m---> 17\u001b[1;33m \u001b[0msave_model\u001b[0m\u001b[1;33m(\u001b[0m\u001b[0mmodel\u001b[0m\u001b[1;33m,\u001b[0m \u001b[0mmodel_filepath\u001b[0m\u001b[1;33m)\u001b[0m\u001b[1;33m\u001b[0m\u001b[0m\n\u001b[0m\u001b[0;32m     18\u001b[0m \u001b[1;33m\u001b[0m\u001b[0m\n\u001b[0;32m     19\u001b[0m \u001b[0mprint\u001b[0m\u001b[1;33m(\u001b[0m\u001b[1;34m'Trained model saved!'\u001b[0m\u001b[1;33m)\u001b[0m\u001b[1;33m\u001b[0m\u001b[0m\n",
      "\u001b[1;31mNameError\u001b[0m: name 'model_filepath' is not defined"
     ]
    }
   ],
   "source": [
    "\n",
    "X, Y, category_names = load_data('DisasterResponse.db')\n",
    "X_train, X_test, Y_train, Y_test = train_test_split(X, Y, test_size=0.2)\n",
    "\n",
    "category_names\n",
    "\n",
    "print('Building model...')\n",
    "model = build_model()\n",
    "\n",
    "print('Training model...')\n",
    "model.fit(X_train, Y_train)\n",
    "\n",
    "print('Evaluating model...')\n",
    "evaluate_model(model, X_test, Y_test, category_names)\n",
    "\n"
   ]
  },
  {
   "cell_type": "code",
   "execution_count": 14,
   "metadata": {},
   "outputs": [
    {
     "name": "stdout",
     "output_type": "stream",
     "text": [
      "Saving model...\n",
      " \n",
      "Trained model saved!\n"
     ]
    }
   ],
   "source": [
    "print('Saving model...\\n ')\n",
    "save_model(model, 'models/classifier.pkl')\n",
    "\n",
    "print('Trained model saved!')"
   ]
  },
  {
   "cell_type": "code",
   "execution_count": null,
   "metadata": {},
   "outputs": [],
   "source": []
  },
  {
   "cell_type": "code",
   "execution_count": null,
   "metadata": {},
   "outputs": [],
   "source": []
  },
  {
   "cell_type": "code",
   "execution_count": null,
   "metadata": {},
   "outputs": [],
   "source": []
  }
 ],
 "metadata": {
  "kernelspec": {
   "display_name": "Python 3",
   "language": "python",
   "name": "python3"
  },
  "language_info": {
   "codemirror_mode": {
    "name": "ipython",
    "version": 3
   },
   "file_extension": ".py",
   "mimetype": "text/x-python",
   "name": "python",
   "nbconvert_exporter": "python",
   "pygments_lexer": "ipython3",
   "version": "3.6.5"
  }
 },
 "nbformat": 4,
 "nbformat_minor": 2
}
